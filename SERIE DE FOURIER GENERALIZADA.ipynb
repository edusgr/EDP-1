{
  "nbformat": 4,
  "nbformat_minor": 0,
  "metadata": {
    "colab": {
      "provenance": [],
      "authorship_tag": "ABX9TyNXxKskHH5SS6HArFtlDo+X",
      "include_colab_link": true
    },
    "kernelspec": {
      "name": "python3",
      "display_name": "Python 3"
    },
    "language_info": {
      "name": "python"
    }
  },
  "cells": [
    {
      "cell_type": "markdown",
      "metadata": {
        "id": "view-in-github",
        "colab_type": "text"
      },
      "source": [
        "<a href=\"https://colab.research.google.com/github/edusgr/EDP-1/blob/main/SERIE%20DE%20FOURIER%20GENERALIZADA.ipynb\" target=\"_parent\"><img src=\"https://colab.research.google.com/assets/colab-badge.svg\" alt=\"Open In Colab\"/></a>"
      ]
    },
    {
      "cell_type": "code",
      "execution_count": 28,
      "metadata": {
        "id": "YWoK4GsbMKsT"
      },
      "outputs": [],
      "source": [
        "import sympy as sp\n",
        "import numpy as np\n",
        "import matplotlib.pyplot as plt\n",
        "\n",
        "# Definimos las variables y la función\n",
        "x, lam = sp.symbols('x lambda', real=True)\n",
        "f = sp.Function('f')(x)\n"
      ]
    },
    {
      "cell_type": "code",
      "source": [
        "# Definimos la EDO\n",
        "edo = sp.Eq(f.diff(x, 2) + 2*f.diff(x) + lam*f, 0)\n"
      ],
      "metadata": {
        "id": "20IOoSKDMOcW"
      },
      "execution_count": 29,
      "outputs": []
    },
    {
      "cell_type": "markdown",
      "source": [
        "$f''(x)+2f'(x)+λf(x)=0; \\hspace{1.0cm} $\n",
        "$0<x<1$\n",
        "\n",
        "y las condiciones\n",
        "\n",
        "$f(0)=0, \\hspace{0.6 cm}$\n",
        "$f(1)=0$"
      ],
      "metadata": {
        "id": "-qbbs_n5N_RP"
      }
    },
    {
      "cell_type": "code",
      "source": [
        "# Resolver la EDO\n",
        "sol = sp.dsolve(edo, f)\n",
        "C1, C2 = sp.symbols('C1 C2')\n",
        "general_solution = sol.rhs\n",
        "\n",
        "# Definir raíces de la ecuación característica\n",
        "r = sp.symbols('r')\n",
        "char_eq = sp.Eq(r**2 + 2*r + lam, 0)\n",
        "roots = sp.solve(char_eq, r)"
      ],
      "metadata": {
        "id": "huE6Qe-wMd_3"
      },
      "execution_count": 30,
      "outputs": []
    },
    {
      "cell_type": "markdown",
      "source": [
        "se escribe como problema de sturm-lioville\n",
        "\n",
        "\n",
        "$[p(x)f'(x)]+[q(x)+λr(x)]f(x)=0$\n",
        "\n",
        "\n",
        "Así\n",
        "\n",
        "$f''+2f'+λf=0$\n",
        "\n",
        "$[e^{2x}f']'+λe^{2x}f=0$\n",
        "\n",
        "con\n",
        "\n",
        "$p(x)=e^{2x}, \\hspace{1.0 cm} q(x)=0, \\hspace{1.0 cm} r(x)=e^{2x}$\n",
        "\n",
        "Ahora se resuelve con la ecuacion caracteristica obteniendo las soluciones\n",
        "$r=-1+\\sqrt{1-λ},\\hspace{1.0 cm}r=-1-\\sqrt{1-λ}$"
      ],
      "metadata": {
        "id": "Le0k6EsiPjkA"
      }
    },
    {
      "cell_type": "code",
      "source": [
        "# Suponemos λ > 1 (raíces complejas) → λ = 1 + μ², μ > 0\n",
        "mu = sp.symbols('mu', positive=True, real=True)\n",
        "lam_sub = 1 + mu**2\n",
        "\n",
        "# Sustituyendo en la solución general\n",
        "f_sol = sp.exp(-x) * (C1 * sp.cos(mu * x) + C2 * sp.sin(mu * x))\n",
        "\n",
        "# Condiciones de frontera\n",
        "eq1 = sp.Eq(f_sol.subs(x,0), 0)\n",
        "eq2 = sp.Eq(f_sol.subs(x,1), 0)\n"
      ],
      "metadata": {
        "id": "oWQOyNQPMu_v"
      },
      "execution_count": 31,
      "outputs": []
    },
    {
      "cell_type": "markdown",
      "source": [
        "Se consideran los casos posibles del problema\n",
        "\n",
        "$λ<1$ raices reales diferentes\n",
        "\n",
        "$λ=1$ raices reales dobles\n",
        "\n",
        "$λ>1$ raices imaginarias"
      ],
      "metadata": {
        "id": "Rfig25cpSPXg"
      }
    },
    {
      "cell_type": "code",
      "source": [
        "# Aplicar f(0)=0 → C1 = 0\n",
        "C1_sol = 0\n",
        "f_sol = sp.exp(-x) * (C2 * sp.sin(mu * x))\n",
        "\n",
        "# Condición f(1)=0 → sin(mu) = 0 → mu = n*pi\n",
        "n = sp.symbols('n', integer=True, positive=True)\n",
        "mu_n = n * sp.pi\n",
        "lam_n = 1 + (n * sp.pi)**2\n",
        "\n",
        "# Autofunción f_n(x)\n",
        "fn = sp.exp(-x) * sp.sin(n * sp.pi * x)"
      ],
      "metadata": {
        "id": "udaejyuCMzuP"
      },
      "execution_count": 32,
      "outputs": []
    },
    {
      "cell_type": "markdown",
      "source": [
        "Se calculan los autovalores que cumplan con las condiciones de frontera\n",
        "esto es\n",
        "\n",
        "$λ_n=1+(nπ)^2$\n",
        "\n",
        "Ahora obtuvimos las autofunciones dadas por\n",
        "\n",
        "$f_n(x)=e^{-x}sin(nπx)$\n"
      ],
      "metadata": {
        "id": "TMBdIWnaTCQR"
      }
    },
    {
      "cell_type": "code",
      "source": [
        "# Definir u(x) y peso r(x)\n",
        "u = sp.exp(-x)\n",
        "r = sp.exp(2*x)\n",
        "\n",
        "# Cálculo de coeficientes c_n\n",
        "numerador = sp.integrate(u * fn * r, (x, 0, 1))\n",
        "denominador = sp.integrate(fn**2 * r, (x, 0, 1))\n",
        "cn = sp.simplify(numerador / denominador)\n"
      ],
      "metadata": {
        "id": "P1phy2mCM3tX"
      },
      "execution_count": 33,
      "outputs": []
    },
    {
      "cell_type": "markdown",
      "source": [
        "Asi el valor de $C_n$ es:\n",
        "\n",
        "$C_n=\\frac{2-2(-1)^n)}{πn}$"
      ],
      "metadata": {
        "id": "_YNbY_06VOnh"
      }
    },
    {
      "cell_type": "code",
      "source": [
        "# Convertimos a funciones numéricas\n",
        "u_lambd = sp.lambdify(x, u, 'numpy')\n",
        "\n",
        "def f_numerica(n_val, x_vals):\n",
        "\n",
        "    return np.exp(-x_vals) * np.sin(n_val * np.pi * x_vals)\n",
        "\n",
        "def c_numerico(n_val):\n",
        "    expr = cn.subs(n, n_val)\n",
        "    return float(expr.evalf())"
      ],
      "metadata": {
        "id": "j5hwALl1M95X"
      },
      "execution_count": 34,
      "outputs": []
    },
    {
      "cell_type": "code",
      "source": [
        "\n",
        "x_vals = np.linspace(0, 1, 400)\n",
        "u_vals = u_lambd(x_vals)\n",
        "\n",
        "# Aproximación de la serie (N términos)\n",
        "N = 20\n",
        "approx_vals = np.zeros_like(x_vals)\n",
        "\n",
        "for k in range(1, N+1):\n",
        "    # Indented these lines to be inside the for loop\n",
        "    ck = c_numerico(k)\n",
        "    fk = f_numerica(k, x_vals)\n",
        "    approx_vals += ck * fk\n",
        "\n",
        "# Graficar\n",
        "plt.figure(figsize=(8,5))\n",
        "plt.plot(x_vals, u_vals, label=r'$u(x) = e^{-x}$', linewidth=1)\n",
        "plt.plot(x_vals, approx_vals, label=f'Aprox con {N} armonicos', linestyle='-', linewidth=1)\n",
        "plt.title('Serie Generalizada')\n",
        "plt.legend()\n",
        "plt.grid(True)\n",
        "plt.show()"
      ],
      "metadata": {
        "colab": {
          "base_uri": "https://localhost:8080/",
          "height": 468
        },
        "id": "oh_MhU-JNA8f",
        "outputId": "35ec24b9-0d9a-4165-e967-905860306c67"
      },
      "execution_count": 35,
      "outputs": [
        {
          "output_type": "display_data",
          "data": {
            "text/plain": [
              "<Figure size 800x500 with 1 Axes>"
            ],
            "image/png": "[encoded data removed]"
          },
          "metadata": {}
        }
      ]
    },
    {
      "cell_type": "markdown",
      "source": [
        "Construccion de la grafica de la serie generalizada para N numero de armonicos"
      ],
      "metadata": {
        "id": "7Js47fobTezZ"
      }
    }
  ]
}