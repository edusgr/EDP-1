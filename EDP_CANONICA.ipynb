{
  "nbformat": 4,
  "nbformat_minor": 0,
  "metadata": {
    "colab": {
      "provenance": [],
      "authorship_tag": "ABX9TyMj2lGtckmM6VW802AF95oW",
      "include_colab_link": true
    },
    "kernelspec": {
      "name": "python3",
      "display_name": "Python 3"
    },
    "language_info": {
      "name": "python"
    }
  },
  "cells": [
    {
      "cell_type": "markdown",
      "metadata": {
        "id": "view-in-github",
        "colab_type": "text"
      },
      "source": [
        "<a href=\"https://colab.research.google.com/github/edusgr/EDP-1/blob/main/EDP_CANONICA.ipynb\" target=\"_parent\"><img src=\"https://colab.research.google.com/assets/colab-badge.svg\" alt=\"Open In Colab\"/></a>"
      ]
    },
    {
      "cell_type": "code",
      "execution_count": 19,
      "metadata": {
        "id": "DjdiTZSUafrc"
      },
      "outputs": [],
      "source": [
        "import sympy as sp\n",
        "\n",
        "# variables\n",
        "x, y = sp.symbols('x y')\n",
        "\n",
        "# ceficientes de la EDP\n",
        "A = 1\n",
        "B = -3\n",
        "C = -10\n"
      ]
    },
    {
      "cell_type": "code",
      "source": [
        "# discriminante\n",
        "discriminante = B**2 - 4*A*C\n",
        "print(f\"Discriminante: {discriminante}\")\n",
        "\n",
        "if discriminante > 0:\n",
        " tipo = \"Hiperbólica\"\n",
        "elif discriminante == 0:\n",
        " tipo = \"Parabólica\"\n",
        "else:\n",
        " tipo = \"Elíptica\"\n",
        "\n",
        "print(f\"La ecuación es de tipo: {tipo}\")\n"
      ],
      "metadata": {
        "colab": {
          "base_uri": "https://localhost:8080/"
        },
        "id": "UvnSnRXdbEvA",
        "outputId": "0e984398-8a9c-40b4-aa6d-32d7d884b710"
      },
      "execution_count": 20,
      "outputs": [
        {
          "output_type": "stream",
          "name": "stdout",
          "text": [
            "Discriminante: 49\n",
            "La ecuación es de tipo: Hiperbólica\n"
          ]
        }
      ]
    },
    {
      "cell_type": "code",
      "source": [
        "sqrtD = sp.sqrt(B**2 - 4*A*C)\n",
        "\n",
        "# nuevas variables según las fórmulas del pizarrón\n",
        "xi = - (B + sqrtD) * x + 2 * A * y\n",
        "eta = - (B - sqrtD) * x + 2 * A * y\n",
        "\n",
        "print(f\"\\nTransformación:\")\n",
        "print(f\"ξ = {xi}\")\n",
        "print(f\"η = {eta}\")"
      ],
      "metadata": {
        "colab": {
          "base_uri": "https://localhost:8080/"
        },
        "id": "QdI2i0mkbPMw",
        "outputId": "038ce7a2-747a-46f2-d684-086885fdbe77"
      },
      "execution_count": 21,
      "outputs": [
        {
          "output_type": "stream",
          "name": "stdout",
          "text": [
            "\n",
            "Transformación:\n",
            "ξ = -4*x + 2*y\n",
            "η = 10*x + 2*y\n"
          ]
        }
      ]
    },
    {
      "cell_type": "code",
      "source": [
        "from sympy import Function, Eq\n",
        "\n",
        "U = Function('U')(x, y)\n",
        "\n",
        "EDP = sp.Eq(U.diff(x, 2) - 4 * U.diff(x, y) + 4 * U.diff(y, 2) + 2 * U.diff(x) + U.diff(y) + U, 0)\n",
        "print(\"\\nLa EDP original es:\")\n",
        "display(EDP)\n"
      ],
      "metadata": {
        "colab": {
          "base_uri": "https://localhost:8080/",
          "height": 170
        },
        "id": "U80ypY1pbaFC",
        "outputId": "65a9ef2b-c50b-4222-8b2b-220587b399a5"
      },
      "execution_count": 22,
      "outputs": [
        {
          "output_type": "stream",
          "name": "stdout",
          "text": [
            "\n",
            "La EDP original es:\n"
          ]
        },
        {
          "output_type": "display_data",
          "data": {
            "text/plain": [
              "Eq(U(x, y) + 2*Derivative(U(x, y), x) + Derivative(U(x, y), (x, 2)) + Derivative(U(x, y), y) + 4*Derivative(U(x, y), (y, 2)) - 4*Derivative(U(x, y), x, y), 0)"
            ],
            "text/latex": "$\\displaystyle U{\\left(x,y \\right)} + 2 \\frac{\\partial}{\\partial x} U{\\left(x,y \\right)} + \\frac{\\partial^{2}}{\\partial x^{2}} U{\\left(x,y \\right)} + \\frac{\\partial}{\\partial y} U{\\left(x,y \\right)} + 4 \\frac{\\partial^{2}}{\\partial y^{2}} U{\\left(x,y \\right)} - 4 \\frac{\\partial^{2}}{\\partial y\\partial x} U{\\left(x,y \\right)} = 0$"
          },
          "metadata": {}
        }
      ]
    },
    {
      "cell_type": "code",
      "source": [
        "print(\"\\nLa ecuación en forma canónica (hiperbólica) es:\")\n",
        "print(\"U_ξη  = 0\")"
      ],
      "metadata": {
        "colab": {
          "base_uri": "https://localhost:8080/"
        },
        "id": "ddBLqCUqdjME",
        "outputId": "5a82d6d1-e6c0-4afe-fcd7-49b6e0e1b3b3"
      },
      "execution_count": 23,
      "outputs": [
        {
          "output_type": "stream",
          "name": "stdout",
          "text": [
            "\n",
            "La ecuación en forma canónica (hiperbólica) es:\n",
            "U_ξη  = 0\n"
          ]
        }
      ]
    }
  ]
}