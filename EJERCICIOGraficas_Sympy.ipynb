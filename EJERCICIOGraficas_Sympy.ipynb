{
  "cells": [
    {
      "cell_type": "code",
      "execution_count": 1,
      "id": "ea3c7cca",
      "metadata": {
        "id": "ea3c7cca"
      },
      "outputs": [],
      "source": [
        "from sympy import *"
      ]
    },
    {
      "cell_type": "code",
      "execution_count": null,
      "id": "9a809e15",
      "metadata": {
        "id": "9a809e15"
      },
      "outputs": [],
      "source": [
        "x=symbols('x')"
      ]
    },
    {
      "cell_type": "code",
      "execution_count": null,
      "id": "f013e8e4",
      "metadata": {
        "id": "f013e8e4"
      },
      "outputs": [],
      "source": [
        "c1=plotting.plot(x*x)"
      ]
    },
    {
      "cell_type": "code",
      "execution_count": null,
      "id": "681a546b",
      "metadata": {
        "id": "681a546b"
      },
      "outputs": [],
      "source": [
        "cl=plotting.plot(x*x,show=False)\n",
        "c2=plotting.plot(x**3,show=False)"
      ]
    },
    {
      "cell_type": "code",
      "execution_count": null,
      "id": "826d2156",
      "metadata": {
        "id": "826d2156"
      },
      "outputs": [],
      "source": [
        "c1 #Indica qué es y en qué espacio de memoria está"
      ]
    },
    {
      "cell_type": "code",
      "execution_count": null,
      "id": "c52a5b46",
      "metadata": {
        "id": "c52a5b46"
      },
      "outputs": [],
      "source": [
        "c1.append(c2[0]) #Anida las gráficas sin los ejes"
      ]
    },
    {
      "cell_type": "code",
      "execution_count": null,
      "id": "f23f0783",
      "metadata": {
        "id": "f23f0783"
      },
      "outputs": [],
      "source": [
        "c1"
      ]
    },
    {
      "cell_type": "code",
      "execution_count": null,
      "id": "c13d8b05",
      "metadata": {
        "id": "c13d8b05"
      },
      "outputs": [],
      "source": [
        "c1.show()"
      ]
    },
    {
      "cell_type": "code",
      "execution_count": null,
      "id": "135bfd2d",
      "metadata": {
        "id": "135bfd2d"
      },
      "outputs": [],
      "source": [
        "c1.extend(c2)"
      ]
    },
    {
      "cell_type": "code",
      "execution_count": null,
      "id": "56418d41",
      "metadata": {
        "id": "56418d41"
      },
      "outputs": [],
      "source": [
        "c1.show()"
      ]
    },
    {
      "cell_type": "code",
      "execution_count": null,
      "id": "3a25a53b",
      "metadata": {
        "id": "3a25a53b"
      },
      "outputs": [],
      "source": [
        "c2.show()"
      ]
    },
    {
      "cell_type": "code",
      "execution_count": null,
      "id": "ad2995f2",
      "metadata": {
        "id": "ad2995f2"
      },
      "outputs": [],
      "source": [
        "from sympy.plotting import plot"
      ]
    },
    {
      "cell_type": "code",
      "execution_count": null,
      "id": "4d9c7160",
      "metadata": {
        "id": "4d9c7160"
      },
      "outputs": [],
      "source": [
        "plot(x**2)"
      ]
    },
    {
      "cell_type": "code",
      "execution_count": null,
      "id": "cac91b1d",
      "metadata": {
        "id": "cac91b1d"
      },
      "outputs": [],
      "source": [
        "plot(x**2,(x,-1,1))"
      ]
    },
    {
      "cell_type": "code",
      "execution_count": null,
      "id": "12aaf4ee",
      "metadata": {
        "id": "12aaf4ee"
      },
      "outputs": [],
      "source": [
        "plot(exp(x))\n",
        "#plot(exp(x),(x,0,2))"
      ]
    },
    {
      "cell_type": "code",
      "execution_count": null,
      "id": "a679a5ba",
      "metadata": {
        "id": "a679a5ba"
      },
      "outputs": [],
      "source": [
        "plot(x,x**2,x**3, (x,-2,2))"
      ]
    },
    {
      "cell_type": "code",
      "execution_count": null,
      "id": "b2425f84",
      "metadata": {
        "id": "b2425f84"
      },
      "outputs": [],
      "source": [
        "plot(x**2,adaptative=False,nb_of_points=10) #Revisar"
      ]
    },
    {
      "cell_type": "markdown",
      "id": "9ce41f8e",
      "metadata": {
        "id": "9ce41f8e"
      },
      "source": [
        "### Curvas parametrizadas"
      ]
    },
    {
      "cell_type": "code",
      "execution_count": null,
      "id": "9dcc8951",
      "metadata": {
        "id": "9dcc8951"
      },
      "outputs": [],
      "source": [
        "from sympy import plot_parametric"
      ]
    },
    {
      "cell_type": "code",
      "execution_count": null,
      "id": "a75bd4c7",
      "metadata": {
        "id": "a75bd4c7"
      },
      "outputs": [],
      "source": [
        "s=symbols('s')"
      ]
    },
    {
      "cell_type": "code",
      "execution_count": null,
      "id": "b1b1f0c8",
      "metadata": {
        "id": "b1b1f0c8"
      },
      "outputs": [],
      "source": [
        "plot_parametric((cos(s)),sin(s))"
      ]
    },
    {
      "cell_type": "code",
      "execution_count": null,
      "id": "5ab8a4f0",
      "metadata": {
        "id": "5ab8a4f0"
      },
      "outputs": [],
      "source": [
        "plot_parametric((cos(s),sin(s)),(s,s**2),(s,-4,4))"
      ]
    },
    {
      "cell_type": "code",
      "execution_count": null,
      "id": "aa955b9e",
      "metadata": {
        "id": "aa955b9e"
      },
      "outputs": [],
      "source": [
        "c2[0].line_color='green'"
      ]
    },
    {
      "cell_type": "code",
      "execution_count": null,
      "id": "be06e1b1",
      "metadata": {
        "id": "be06e1b1"
      },
      "outputs": [],
      "source": [
        "c2.show()"
      ]
    },
    {
      "cell_type": "markdown",
      "id": "cca07cb7",
      "metadata": {
        "id": "cca07cb7"
      },
      "source": [
        "### Graficas 3D"
      ]
    },
    {
      "cell_type": "code",
      "execution_count": null,
      "id": "af558339",
      "metadata": {
        "id": "af558339"
      },
      "outputs": [],
      "source": [
        "from sympy.plotting import plot3d"
      ]
    },
    {
      "cell_type": "code",
      "execution_count": null,
      "id": "b8c4346f",
      "metadata": {
        "id": "b8c4346f"
      },
      "outputs": [],
      "source": [
        "x,y=symbols('x y')"
      ]
    },
    {
      "cell_type": "code",
      "execution_count": null,
      "id": "7bf8b47c",
      "metadata": {
        "id": "7bf8b47c"
      },
      "outputs": [],
      "source": [
        "plot3d(x*y)"
      ]
    },
    {
      "cell_type": "code",
      "execution_count": null,
      "id": "26b09e08",
      "metadata": {
        "id": "26b09e08"
      },
      "outputs": [],
      "source": [
        "plot3d(x*y, (x,-5,5),(y,-5,5))"
      ]
    },
    {
      "cell_type": "code",
      "execution_count": null,
      "id": "1bd8303d",
      "metadata": {
        "id": "1bd8303d"
      },
      "outputs": [],
      "source": [
        "plot3d(x*y, -x*y, (x,-5,5),(y,-5,5))"
      ]
    },
    {
      "cell_type": "code",
      "execution_count": null,
      "id": "bc48dc4f",
      "metadata": {
        "id": "bc48dc4f"
      },
      "outputs": [],
      "source": [
        "plot3d((x**2 + y**2, (x,-5,5),(y,-5,5)),(x*y,(x,-3,3),(y,-3,3)))"
      ]
    },
    {
      "cell_type": "code",
      "execution_count": null,
      "id": "6cdd3777",
      "metadata": {
        "id": "6cdd3777"
      },
      "outputs": [],
      "source": [
        "from sympy.plotting import plot3d_parametric_line"
      ]
    },
    {
      "cell_type": "code",
      "execution_count": null,
      "id": "e57589a8",
      "metadata": {
        "id": "e57589a8"
      },
      "outputs": [],
      "source": [
        "plot3d_parametric_line(cos(s),sin(s),s)"
      ]
    },
    {
      "cell_type": "code",
      "execution_count": null,
      "id": "b182c4af",
      "metadata": {
        "id": "b182c4af"
      },
      "outputs": [],
      "source": [
        "plot3d_parametric_line((cos(s),sin(s),s,(s,-5,5)),(sin(s),s**2,s,(s,-5,5)))"
      ]
    },
    {
      "cell_type": "code",
      "execution_count": null,
      "id": "31185692",
      "metadata": {
        "id": "31185692"
      },
      "outputs": [],
      "source": [
        "from sympy.plotting import plot3d_parametric_surface"
      ]
    },
    {
      "cell_type": "code",
      "execution_count": null,
      "id": "22e2c1c2",
      "metadata": {
        "id": "22e2c1c2"
      },
      "outputs": [],
      "source": [
        "u, v =symbols('u v')"
      ]
    },
    {
      "cell_type": "code",
      "execution_count": null,
      "id": "c96ce23a",
      "metadata": {
        "id": "c96ce23a"
      },
      "outputs": [],
      "source": [
        "plot3d_parametric_surface(cos(u+v),sin(u-v),u-v)"
      ]
    },
    {
      "cell_type": "code",
      "execution_count": null,
      "id": "406abc70",
      "metadata": {
        "id": "406abc70"
      },
      "outputs": [],
      "source": [
        "plot3d_parametric_surface(cos(v)*cos(u),cos(v)*sin(u),sin(v))"
      ]
    },
    {
      "cell_type": "markdown",
      "id": "4203d6ad",
      "metadata": {
        "id": "4203d6ad"
      },
      "source": [
        "Funciones implícitas"
      ]
    },
    {
      "cell_type": "code",
      "execution_count": null,
      "id": "dfccc5e3",
      "metadata": {
        "id": "dfccc5e3"
      },
      "outputs": [],
      "source": [
        "from sympy import plot_implicit, symbols, Eq, And"
      ]
    },
    {
      "cell_type": "code",
      "execution_count": null,
      "id": "c0d7f8b3",
      "metadata": {
        "id": "c0d7f8b3"
      },
      "outputs": [],
      "source": [
        "x, y = symbols(' x y')"
      ]
    },
    {
      "cell_type": "code",
      "execution_count": null,
      "id": "d9cfb450",
      "metadata": {
        "id": "d9cfb450"
      },
      "outputs": [],
      "source": [
        "p1 = plot_implicit(Eq(x**2 + y**2, 5))"
      ]
    },
    {
      "cell_type": "code",
      "execution_count": null,
      "id": "da52c476",
      "metadata": {
        "id": "da52c476"
      },
      "outputs": [],
      "source": [
        "p6 = plot_implicit(y > x**2)"
      ]
    },
    {
      "cell_type": "code",
      "execution_count": null,
      "id": "a819d003",
      "metadata": {
        "id": "a819d003"
      },
      "outputs": [],
      "source": [
        "p6 = plot_implicit(And(y > x, y > -x))"
      ]
    },
    {
      "cell_type": "code",
      "execution_count": null,
      "id": "45fd20a5",
      "metadata": {
        "id": "45fd20a5"
      },
      "outputs": [],
      "source": []
    }
  ],
  "metadata": {
    "kernelspec": {
      "display_name": "Python 3 (ipykernel)",
      "language": "python",
      "name": "python3"
    },
    "language_info": {
      "codemirror_mode": {
        "name": "ipython",
        "version": 3
      },
      "file_extension": ".py",
      "mimetype": "text/x-python",
      "name": "python",
      "nbconvert_exporter": "python",
      "pygments_lexer": "ipython3",
      "version": "3.7.3"
    },
    "colab": {
      "provenance": []
    }
  },
  "nbformat": 4,
  "nbformat_minor": 5
}